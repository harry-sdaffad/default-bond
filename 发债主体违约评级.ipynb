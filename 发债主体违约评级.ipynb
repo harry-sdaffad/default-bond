{
 "cells": [
  {
   "cell_type": "code",
   "execution_count": 2,
   "id": "540e04ff",
   "metadata": {},
   "outputs": [],
   "source": [
    "import pandas as pd\n",
    "import akshare as ak\n",
    "from scipy.stats import norm\n",
    "from scipy.optimize import minimize\n",
    "import numpy as np\n",
    "from math import log\n",
    "from sklearn.ensemble import RandomForestClassifier\n",
    "from boruta import BorutaPy"
   ]
  },
  {
   "cell_type": "markdown",
   "id": "6c6dbe07",
   "metadata": {},
   "source": [
    "# 整理模型所需要数据"
   ]
  },
  {
   "cell_type": "code",
   "execution_count": 3,
   "id": "318c8e45",
   "metadata": {},
   "outputs": [],
   "source": [
    "def process(rate_name,fin_name):   \n",
    "    mdata = pd.read_csv(rate_name)\n",
    "    #将中债隐含评级数据换为数字\n",
    "    mdata.loc[(mdata[\"F2_0003\"]== 'AAA+'),\"评级\"] = 10\n",
    "    mdata.loc[(mdata[\"F2_0003\"]== 'AAA')  ,\"评级\"] = 9\n",
    "    mdata.loc[(mdata[\"F2_0003\"]== 'AA+')|(mdata[\"F2_0003\"]== 'AAA-')  ,\"评级\"] = 8\n",
    "    mdata.loc[(mdata[\"F2_0003\"]== 'AA')|(mdata[\"F2_0003\"]== 'AA(2)'),\"评级\"] = 7\n",
    "    mdata.loc[mdata[\"F2_0003\"]== 'AA-',\"评级\"] = 6\n",
    "    mdata.loc[(mdata[\"F2_0003\"]== 'A+')  ,\"评级\"] = 5\n",
    "    mdata.loc[(mdata[\"F2_0003\"]== 'A'),\"评级\"] = 4\n",
    "    mdata.loc[(mdata[\"F2_0003\"]== 'A-'),\"评级\"] = 3\n",
    "    mdata.loc[(mdata[\"F2_0003\"]== 'BBB+') |( mdata[\"F2_0003\"]== 'BBB')|( mdata[\"F2_0003\"]== 'BBB-') ,\"评级\"] = 2\n",
    "    mdata.loc[(mdata[\"F2_0003\"]== 'BB') |( mdata[\"F2_0003\"]== 'B') ,\"评级\"] = 1\n",
    "    mdata.loc[(mdata[\"F2_0003\"]== 'CCC') |( mdata[\"F2_0003\"]== 'CC')|( mdata[\"F2_0003\"]== 'C') ,\"评级\"] = 0\n",
    "    #比较年初年末的中债数据\n",
    "    first_date = min(mdata[\"F1_2014\"])\n",
    "    first = mdata.loc[mdata[\"F1_2014\"] ==first_date ]\n",
    "    final_date = max(mdata[\"F1_2014\"])\n",
    "    final = mdata.loc[mdata[\"F1_2014\"] ==final_date ]\n",
    "    #关联年末年初的数据表\n",
    "    data = pd.merge(first,final,on = \"OB_OBJECT_NAME_1090\")\n",
    "    #如果数据下降则下降等于1\n",
    "    data.loc[(data['评级_x']> data['评级_y']),\"下降\"] = 1\n",
    "    fin_data = pd.read_csv(fin_name)\n",
    "    #和发债主体的财务数据相关联\n",
    "    data = pd.merge(bond,data,left_on  =\"secu_cd\",right_on = \"F16_1090_x\")\n",
    "    data = pd.merge(fin_data,data,left_on =\"corp_id\",right_on = \"issr_id\")\n",
    "    data_defualt = data.loc[data[\"下降\"]==1]\n",
    "    default_company = data_defualt[\"issr_id\"].unique()\n",
    "    company = data[\"issr_id\"].unique()\n",
    "    bond_data = pd.DataFrame()\n",
    "    bond_data[\"ID\"] = company\n",
    "    bond_data.loc[bond_data[\"ID\"].isin(default_company) == 1  ,\"下降\"] = 1\n",
    "    bond_data[\"下降\"] =  bond_data[\"下降\"].fillna(0)\n",
    "    bond_data = pd.merge(bond_data,fin_data,left_on = \"ID\",right_on = \"corp_id\")\n",
    "    bond_data = bond_data.dropna(subset=[\"ebitda\"])\n",
    "    bond_data = bond_data.fillna(0)\n",
    "    #整理要放入模型的数据\n",
    "    model_data = pd.DataFrame()\n",
    "    model_data[\"企业\"] = bond_data[\"ID\"]\n",
    "    model_data[\"主营业务利润率\"] = bond_data[\"biz_prof_biz_total_ncm_rt\"]\n",
    "    model_data[\"营业成本收入比\"] = bond_data[\"biz_cost_ncm_rt\"]\n",
    "    model_data[\"总资产报酬率\"] = bond_data[\"total_ast_rwrd_rate_ann\"]\n",
    "    model_data[\"总资产收益率\"] = bond_data[\"total_ast_prft_rate\"]\n",
    "    model_data[\"应收账款周转率\"] = bond_data[\"recv_acc_tr\"]\n",
    "    model_data[\"存货周转率\"] = bond_data[\"invt_tr\"]\n",
    "    model_data[\"流动比率\"] =bond_data[\"flow_rt\"]\n",
    "    model_data[\"速度比率\"] = bond_data[\"qr\"]\n",
    "    model_data[\"EBITA/带息债务\"] = bond_data[\"ebitda\"]/(bond_data[\"st_brow\"]+bond_data[\"lt_brow\"])\n",
    "    model_data[\"资产负债率\"] = bond_data[\"ast_liab_rate\"]\n",
    "    model_data[\"短期债务/总债务\"] = bond_data[\"flow_liab_tot\"]/bond_data[\"liab_tot\"]\n",
    "    model_data[\"货币资金/总债务\"] = bond_data[\"crrc_fund\"]/bond_data[\"liab_tot\"]\n",
    "    model_data[\"货币资金/短期债务\"] = bond_data[\"crrc_fund\"]/bond_data[\"flow_liab_tot\"]\n",
    "    model_data[\"营业收入增长率\"] = bond_data[\"biz_ncm_yoy_incr\"]\n",
    "    model_data[\"违约\"] = bond_data[\"下降\"]\n",
    "    model_data =model_data.replace([np.inf, -np.inf], np.nan) \n",
    "    model_data = model_data.dropna()\n",
    "    return model_data"
   ]
  },
  {
   "cell_type": "code",
   "execution_count": 4,
   "id": "d28b4d4f",
   "metadata": {},
   "outputs": [],
   "source": [
    "bond = pd.read_csv(\"new bond.csv\")\n",
    "data_2015 = process(\"2015 中债.csv\",\"2015 data.csv\")\n",
    "data_2018 = process(\"2018 中债.csv\",\"2018  data.csv\")\n",
    "data_2019 = process(\"2019 中债.csv\",\"2019  data.csv\")\n",
    "data_2020 = process(\"2020 中债.csv\",\"2020  data.csv\")\n",
    "model_data = pd.concat([data_2015, data_2018,data_2019,data_2020])\n",
    "model_data.to_csv(\"model_data.csv\")"
   ]
  },
  {
   "cell_type": "markdown",
   "id": "0455ac22",
   "metadata": {},
   "source": [
    "# 使用Linear Reg 进行预测"
   ]
  },
  {
   "cell_type": "code",
   "execution_count": 5,
   "id": "129ab0fd",
   "metadata": {},
   "outputs": [],
   "source": [
    "from sklearn.model_selection import train_test_split\n",
    "from sklearn.linear_model import LogisticRegression\n",
    "from sklearn.metrics import precision_score\n",
    "from sklearn.metrics import recall_score\n",
    "y = model_data[\"违约\"]\n",
    "X = model_data.drop(columns=['企业', '违约'])\n",
    "\n",
    "\n",
    "\n",
    "X_train, X_test, y_train, y_test = train_test_split(X, y,train_size=0.7, test_size=0.3, random_state=188)\n",
    "clf = LogisticRegression( max_iter=3000)\n",
    "\n",
    "# 使用训练数据来学习（拟合），不需要返回值，训练的结果都在对象内部变量中\n",
    "clf.fit(X_train, y_train)\n",
    "y_pred = clf.predict(X_train)\n",
    "lr_train = clf.score(X_train,y_train)\n",
    "lr_train_pre = precision_score(y_train, y_pred)\n",
    "lr_train_recall= recall_score(y_train, y_pred)\n",
    "\n",
    "y_pred = clf.predict(X_test)\n",
    "lr_test = clf.score(X_test,y_test)\n",
    "lr_test_pre = precision_score(y_test, y_pred)\n",
    "lr_test_recall= recall_score(y_test, y_pred)"
   ]
  },
  {
   "cell_type": "markdown",
   "id": "2e041ed1",
   "metadata": {},
   "source": [
    "# 使用XG boost 进行预测，绘制重要性表"
   ]
  },
  {
   "cell_type": "code",
   "execution_count": 6,
   "id": "d1341b62",
   "metadata": {},
   "outputs": [
    {
     "data": {
      "text/plain": [
       "<AxesSubplot:title={'center':'Feature importance'}, xlabel='F score', ylabel='Features'>"
      ]
     },
     "execution_count": 6,
     "metadata": {},
     "output_type": "execute_result"
    },
    {
     "data": {
      "image/png": "[encoded data removed]",
      "text/plain": [
       "<Figure size 432x288 with 1 Axes>"
      ]
     },
     "metadata": {
      "needs_background": "light"
     },
     "output_type": "display_data"
    }
   ],
   "source": [
    "import xgboost as xgb\n",
    "from xgboost import plot_importance\n",
    "\n",
    "other_params = {\"scale_pos_weight\" :5,'max_depth': 1, 'min_child_weight': 6, 'max_depth': 1, 'min_child_weight': 6, 'n_estimators': 600,'colsample_bytree': 0.9, 'gamma': 0.01, 'subsample': 0.6,'learning_rate': 0.001}\n",
    "xgboost_model = xgb.XGBClassifier(**other_params).fit(X_train,y_train)\n",
    "#plot_importance(xgboost_model)\n",
    "pred = xgboost_model.predict(X_train)\n",
    "xgb_train = xgboost_model.score(X_train,y_train)\n",
    "xgb_train_pre = precision_score(y_train, pred)\n",
    "xgb_train_recall = recall_score(y_train, pred)\n",
    "\n",
    "pred = xgboost_model.predict(X_test)\n",
    "xgb_test = xgboost_model.score(X_test,y_test)\n",
    "xgb_test_pre = precision_score(y_test, pred)\n",
    "xgb_test_recall =  recall_score(y_test, pred)\n",
    "plot_importance(xgboost_model)"
   ]
  },
  {
   "cell_type": "code",
   "execution_count": 7,
   "id": "7b2a95a1",
   "metadata": {},
   "outputs": [
    {
     "data": {
      "text/plain": [
       "[0.7431318681318682, 0.2655367231638418, 0.4519230769230769]"
      ]
     },
     "execution_count": 7,
     "metadata": {},
     "output_type": "execute_result"
    }
   ],
   "source": [
    "[xgb_test,xgb_test_pre,xgb_test_recall]"
   ]
  },
  {
   "cell_type": "markdown",
   "id": "5084ef95",
   "metadata": {},
   "source": [
    "# 对Xgboost进行调参"
   ]
  },
  {
   "cell_type": "code",
   "execution_count": 8,
   "id": "f5781303",
   "metadata": {
    "scrolled": true
   },
   "outputs": [
    {
     "ename": "NameError",
     "evalue": "name 'StratifiedKFold' is not defined",
     "output_type": "error",
     "traceback": [
      "\u001b[1;31m---------------------------------------------------------------------------\u001b[0m",
      "\u001b[1;31mNameError\u001b[0m                                 Traceback (most recent call last)",
      "Input \u001b[1;32mIn [8]\u001b[0m, in \u001b[0;36m<module>\u001b[1;34m\u001b[0m\n\u001b[0;32m      4\u001b[0m xgboost_model \u001b[38;5;241m=\u001b[39m xgb\u001b[38;5;241m.\u001b[39mXGBClassifier(\u001b[38;5;241m*\u001b[39m\u001b[38;5;241m*\u001b[39mother_params)\n\u001b[0;32m      6\u001b[0m param_grid \u001b[38;5;241m=\u001b[39m {\u001b[38;5;124m'\u001b[39m\u001b[38;5;124mlearning_rate\u001b[39m\u001b[38;5;124m'\u001b[39m: [\u001b[38;5;241m1e-5\u001b[39m,\u001b[38;5;241m1e-4\u001b[39m,\u001b[38;5;241m1e-3\u001b[39m,\u001b[38;5;241m1e-2\u001b[39m,\u001b[38;5;241m1e-1\u001b[39m]}\n\u001b[1;32m----> 9\u001b[0m kflod \u001b[38;5;241m=\u001b[39m \u001b[43mStratifiedKFold\u001b[49m(n_splits\u001b[38;5;241m=\u001b[39m\u001b[38;5;241m10\u001b[39m, shuffle \u001b[38;5;241m=\u001b[39m \u001b[38;5;28;01mTrue\u001b[39;00m,random_state\u001b[38;5;241m=\u001b[39m\u001b[38;5;241m7\u001b[39m)\u001b[38;5;66;03m#将训练/测试数据集划分10个互斥子集，\u001b[39;00m\n\u001b[0;32m     11\u001b[0m grid_search \u001b[38;5;241m=\u001b[39m GridSearchCV(xgboost_model,param_grid,n_jobs \u001b[38;5;241m=\u001b[39m \u001b[38;5;241m-\u001b[39m\u001b[38;5;241m1\u001b[39m,cv \u001b[38;5;241m=\u001b[39m \u001b[38;5;241m3\u001b[39m,scoring \u001b[38;5;241m=\u001b[39m \u001b[38;5;124m\"\u001b[39m\u001b[38;5;124mf1\u001b[39m\u001b[38;5;124m\"\u001b[39m)\n\u001b[0;32m     12\u001b[0m grid_result \u001b[38;5;241m=\u001b[39m grid_search\u001b[38;5;241m.\u001b[39mfit(X_train, y_train)\n",
      "\u001b[1;31mNameError\u001b[0m: name 'StratifiedKFold' is not defined"
     ]
    }
   ],
   "source": [
    "from sklearn.model_selection import GridSearchCV\n",
    "\n",
    "other_params = {\"scale_pos_weight\" :5,'max_depth': 1, 'min_child_weight': 6, 'max_depth': 1, 'min_child_weight': 6, 'n_estimators': 600,'colsample_bytree': 0.9, 'gamma': 0.01, 'subsample': 0.6,'learning_rate': 0.001}\n",
    "xgboost_model = xgb.XGBClassifier(**other_params)\n",
    "param_grid = {'learning_rate': [1e-5,1e-4,1e-3,1e-2,1e-1]}\n",
    "grid_search = GridSearchCV(xgboost_model,param_grid,n_jobs = -1,cv = 3,scoring = \"f1\")\n",
    "grid_result = grid_search.fit(X_train, y_train)\n",
    "means = grid_result.cv_results_['mean_test_score']\n",
    "params = grid_result.cv_results_['params']\n",
    "for mean,param in zip(means,params):\n",
    "    print(\"%f  with:   %r\" % (mean,param))\n"
   ]
  },
  {
   "cell_type": "code",
   "execution_count": 21,
   "id": "8e789b17",
   "metadata": {},
   "outputs": [
    {
     "name": "stdout",
     "output_type": "stream",
     "text": [
      "最优参数组合: {'learning_rate': 0.1} 最好得分: 0.4551867885201219\n"
     ]
    }
   ],
   "source": [
    "\n",
    "print('最优参数组合:', grid_result.best_params_, '最好得分:', grid_result.best_score_)\n"
   ]
  },
  {
   "cell_type": "markdown",
   "id": "b27c4044",
   "metadata": {},
   "source": [
    "# 使用SVM进行训练"
   ]
  },
  {
   "cell_type": "code",
   "execution_count": 9,
   "id": "619b2fc8",
   "metadata": {},
   "outputs": [],
   "source": [
    "from sklearn import svm\n",
    "clf = svm.SVC()\n",
    "from sklearn.preprocessing import StandardScaler  # 归一化\n",
    "\n",
    "# 归一化操作\n",
    "scaler = StandardScaler()\n",
    "X_train = scaler.fit_transform(X_train)\n",
    "X_test = scaler.transform(X_test)\n",
    "\n",
    "\n",
    "\n",
    "clf.fit(X_train, y_train)\n",
    "y_pred = clf.predict(X_train)\n",
    "svm_train = clf.score(X_train,y_train)\n",
    "svm_train_pre = precision_score(y_train, y_pred)\n",
    "svm_train_recall= recall_score(y_train, y_pred)\n",
    "y_pred = clf.predict(X_test)"
   ]
  },
  {
   "cell_type": "code",
   "execution_count": 16,
   "id": "97ad9deb",
   "metadata": {},
   "outputs": [
    {
     "data": {
      "text/plain": [
       "0.1091703056768559"
      ]
     },
     "execution_count": 16,
     "metadata": {},
     "output_type": "execute_result"
    }
   ],
   "source": [
    "svm_train_recall"
   ]
  },
  {
   "cell_type": "code",
   "execution_count": 92,
   "id": "70c3b449",
   "metadata": {},
   "outputs": [],
   "source": [
    "file= pd.DataFrame()\n",
    "file[\"truth\"] = y_test\n",
    "file[\"pred\"] = pred\n",
    "file.to_excel(\"test_output.xlsx\")"
   ]
  },
  {
   "cell_type": "markdown",
   "id": "258dc020",
   "metadata": {},
   "source": [
    "# 使用XGBOD进行训练"
   ]
  },
  {
   "cell_type": "code",
   "execution_count": 10,
   "id": "c5925def",
   "metadata": {},
   "outputs": [
    {
     "name": "stdout",
     "output_type": "stream",
     "text": [
      "[16:12:31] WARNING: C:/Users/Administrator/workspace/xgboost-win64_release_1.6.0/src/learner.cc:627: \n",
      "Parameters: { \"silent\" } might not be used.\n",
      "\n",
      "  This could be a false alarm, with some parameters getting used by language bindings but\n",
      "  then being mistakenly passed down to XGBoost core, or some parameter actually being used\n",
      "  but getting flagged wrongly here. Please open an issue if you find any such cases.\n",
      "\n",
      "\n"
     ]
    }
   ],
   "source": [
    "from pyod.models.xgbod import XGBOD   # imprt kNN分类器\n",
    "from sklearn.metrics import accuracy_score\n",
    "# 训练一个kNN检测器\n",
    "clf_name = 'XGBOD'\n",
    "other_params = {'n_estimators': 700, 'scale_pos_weight': 7,'max_depth': 5, 'min_child_weight': 4,'colsample_bytree': 0.5, 'gamma': 0.01, 'subsample': 0.9,'learning_rate': 0.1}\n",
    "clf = XGBOD(**other_params)\n",
    "clf.fit(X_train,y_train) # 使用X_train训练检测器clf\n",
    "y_test_pred = clf.predict(X_test)  # outlier labels (0 or 1)\n",
    "y_train_pred = clf.labels_\n",
    "xgbod_precision= precision_score(y_test,y_test_pred)\n",
    "xgbod_acc = accuracy_score(y_test,y_test_pred)\n",
    "xgbod_recall = recall_score(y_test,y_test_pred)\n"
   ]
  },
  {
   "cell_type": "code",
   "execution_count": 11,
   "id": "90e50889",
   "metadata": {},
   "outputs": [
    {
     "data": {
      "text/plain": [
       "[0.9285714285714286, 0.7954545454545454, 0.6730769230769231]"
      ]
     },
     "execution_count": 11,
     "metadata": {},
     "output_type": "execute_result"
    }
   ],
   "source": [
    "[xgbod_acc,xgbod_precision,xgbod_recall]"
   ]
  },
  {
   "cell_type": "markdown",
   "id": "7a0733b2",
   "metadata": {},
   "source": [
    "# 对Xgbod进行调参"
   ]
  },
  {
   "cell_type": "code",
   "execution_count": null,
   "id": "014fa527",
   "metadata": {},
   "outputs": [],
   "source": [
    "from sklearn.model_selection import GridSearchCV\n",
    "other_params = {}\n",
    "model = XGBOD(**other_params)\n",
    "\n",
    "param_grid = {'n_estimators': [400,500,600,700,800,900], \n",
    "              'scale_pos_weight': [4,5,6,7,8,9],\n",
    "              'max_depth': [1,2,3,4,5,6], \n",
    "              'min_child_weight': [2,3,4,5,6],\n",
    "              'colsample_bytree': [0.4,0.5,0.6,0.7,0.8],\n",
    "              'gamma': [1e-4,1e-3,1e-2,1e-1,1],\n",
    "              'subsample': [0.5,0.6,0.7,0.8,0.9],\n",
    "              'learning_rate' : [1e-5,1e-4,1e-3,1e-2,1e-1]}\n",
    "grid_search = GridSearchCV(model,param_grid,n_jobs = -1,cv = 5,scoring = \"f1\")\n",
    "grid_result = grid_search.fit(X_train, y_train)\n",
    "\n",
    "means = grid_result.cv_results_['mean_test_score']\n",
    "params = grid_result.cv_results_['params']\n",
    "for mean,param in zip(means,params):\n",
    "    print(\"%f  with:   %r\" % (mean,param))"
   ]
  },
  {
   "cell_type": "markdown",
   "id": "93e688b0",
   "metadata": {},
   "source": [
    "# 绘制并比较预测结果"
   ]
  },
  {
   "cell_type": "code",
   "execution_count": 6,
   "id": "54c6023c",
   "metadata": {},
   "outputs": [
    {
     "data": {
      "image/png": "[encoded data removed]",
      "text/plain": [
       "<Figure size 432x288 with 1 Axes>"
      ]
     },
     "metadata": {
      "needs_background": "light"
     },
     "output_type": "display_data"
    }
   ],
   "source": [
    "\n",
    "import matplotlib.pyplot as plt\n",
    "size = 4\n",
    "x = np.arange(size)\n",
    "acc = [lr_train,lr_test,xgb_train,xgb_test]\n",
    "precision = [lr_train_pre,lr_test_pre,xgb_train_pre,xgb_test_pre]\n",
    "recall = [lr_train_recall,lr_test_recall,xgb_train_recall,xgb_test_recall]\n",
    "\n",
    "\n",
    "\n",
    "total_width, n = 0.8, 3\n",
    "width = total_width / n\n",
    "x = x - (total_width - width) / 2\n",
    "\n",
    "plt.bar(x, acc,  width=width, label='acc')\n",
    "plt.bar(x + width, precision, width=width, label='precision')\n",
    "plt.bar(x + 2 * width, recall, width=width, label='recall')\n",
    "plt.legend()\n",
    "plt.show()"
   ]
  },
  {
   "cell_type": "code",
   "execution_count": 7,
   "id": "569d86dc",
   "metadata": {},
   "outputs": [
    {
     "data": {
      "text/plain": [
       "[0.08441558441558442, 0.03389830508474576, 1.0, 0.2033898305084746]"
      ]
     },
     "execution_count": 7,
     "metadata": {},
     "output_type": "execute_result"
    }
   ],
   "source": [
    "recall"
   ]
  },
  {
   "cell_type": "code",
   "execution_count": 48,
   "id": "d55605d3",
   "metadata": {},
   "outputs": [
    {
     "name": "stdout",
     "output_type": "stream",
     "text": [
      "最优参数组合: {'learning_rate': 0.1} 最好得分: 0.5867356491746736\n"
     ]
    }
   ],
   "source": [
    "print('最优参数组合:', grid_result.best_params_, '最好得分:', grid_result.best_score_)"
   ]
  },
  {
   "cell_type": "markdown",
   "id": "5f6c62a8",
   "metadata": {},
   "source": [
    "# 违约距离计算（暂时没用上）"
   ]
  },
  {
   "cell_type": "code",
   "execution_count": 8,
   "id": "8df4eb5e",
   "metadata": {},
   "outputs": [
    {
     "ename": "NameError",
     "evalue": "name 'leng' is not defined",
     "output_type": "error",
     "traceback": [
      "\u001b[1;31m---------------------------------------------------------------------------\u001b[0m",
      "\u001b[1;31mNameError\u001b[0m                                 Traceback (most recent call last)",
      "Input \u001b[1;32mIn [8]\u001b[0m, in \u001b[0;36m<module>\u001b[1;34m\u001b[0m\n\u001b[0;32m      1\u001b[0m \u001b[38;5;28;01mimport\u001b[39;00m \u001b[38;5;21;01makshare\u001b[39;00m \u001b[38;5;28;01mas\u001b[39;00m \u001b[38;5;21;01mak\u001b[39;00m\n\u001b[1;32m----> 2\u001b[0m \u001b[38;5;28;01mfor\u001b[39;00m i \u001b[38;5;129;01min\u001b[39;00m \u001b[38;5;28mrange\u001b[39m(\u001b[38;5;241m0\u001b[39m,\u001b[43mleng\u001b[49m):\n\u001b[0;32m      3\u001b[0m     \u001b[38;5;28;01mtry\u001b[39;00m:    \n\u001b[0;32m      4\u001b[0m         stock_zh_a_daily_qfq_df \u001b[38;5;241m=\u001b[39m ak\u001b[38;5;241m.\u001b[39mstock_zh_a_daily(symbol\u001b[38;5;241m=\u001b[39mcode[i], start_date\u001b[38;5;241m=\u001b[39m\u001b[38;5;124m\"\u001b[39m\u001b[38;5;124m20171231\u001b[39m\u001b[38;5;124m\"\u001b[39m, end_date\u001b[38;5;241m=\u001b[39m\u001b[38;5;124m\"\u001b[39m\u001b[38;5;124m20190101\u001b[39m\u001b[38;5;124m\"\u001b[39m, adjust\u001b[38;5;241m=\u001b[39m\u001b[38;5;124m\"\u001b[39m\u001b[38;5;124mqfq\u001b[39m\u001b[38;5;124m\"\u001b[39m)\n",
      "\u001b[1;31mNameError\u001b[0m: name 'leng' is not defined"
     ]
    }
   ],
   "source": [
    "import akshare as ak\n",
    "for i in range(0,leng):\n",
    "    try:    \n",
    "        stock_zh_a_daily_qfq_df = ak.stock_zh_a_daily(symbol=code[i], start_date=\"20171231\", end_date=\"20190101\", adjust=\"qfq\")\n",
    "        stock_zh_a_daily_qfq_df[\"value\"] = stock_zh_a_daily_qfq_df[\"outstanding_share\"]*stock_zh_a_daily_qfq_df[\"close\"]\n",
    "        stock_zh_a_daily_qfq_df[\"next\"] = stock_zh_a_daily_qfq_df[\"close\"].shift(1)\n",
    "        stock_zh_a_daily_qfq_df.dropna(inplace = True)\n",
    "        n = len(stock_zh_a_daily_qfq_df[\"next\"])\n",
    "        rf = 1.5\n",
    "        stock_zh_a_daily_qfq_df[\"change\"] =(stock_zh_a_daily_qfq_df[\"close\"]/stock_zh_a_daily_qfq_df[\"next\"]-1)*100\n",
    "        stock_zh_a_daily_qfq_df[\"change\"] = (stock_zh_a_daily_qfq_df[\"change\"]).apply(np.log1p) \n",
    "        std = stock_zh_a_daily_qfq_df[\"change\"].std()\n",
    "        mean = stock_zh_a_daily_qfq_df[\"close\"].mean()\n",
    "        sharp = (mean - rf)/std\n",
    "        V_equity = mean*total_shar[i]\n",
    "        default_point = (lib[i]-lt_lib[i])*1.045\n",
    "        rf_rate = 0.015\n",
    "        sigma_equity = std \n",
    "        T = 1\n",
    "        # One dimension estimation\n",
    "        def equation(x):\n",
    "            d1 = (np.log(x[0]/default_point) + (rf_rate+x[1]**2/2)*T)/(x[1] * np.sqrt(T))\n",
    "            d2 = d1 - x[1] * np.sqrt(T)\n",
    "            res1 = x[0] * norm.cdf(d1) - np.exp(-rf_rate*T) * default_point * norm.cdf(d2) - V_equity\n",
    "            res2 = x[0] * norm.cdf(d1) * x[1] - V_equity * sigma_equity\n",
    "            return(res1**2+res2**2)\n",
    "        result = minimize(equation,[V_equity,sigma_equity])\n",
    "        V_asset = list(result[\"x\"])[0]\n",
    "        sigma_asset = list(result[\"x\"])[1]\n",
    "        DD = (V_asset-default_point)/(sigma_asset*V_asset)\n",
    "        list_D.append(DD)\n",
    "        sharp_list.append(sharp)\n",
    "        record_code.append(code[i])\n",
    "    except Exception as e:\n",
    "        pass\n",
    "    continue\n",
    "DD"
   ]
  }
 ],
 "metadata": {
  "kernelspec": {
   "display_name": "Python 3 (ipykernel)",
   "language": "python",
   "name": "python3"
  },
  "language_info": {
   "codemirror_mode": {
    "name": "ipython",
    "version": 3
   },
   "file_extension": ".py",
   "mimetype": "text/x-python",
   "name": "python",
   "nbconvert_exporter": "python",
   "pygments_lexer": "ipython3",
   "version": "3.8.10"
  }
 },
 "nbformat": 4,
 "nbformat_minor": 5
}
