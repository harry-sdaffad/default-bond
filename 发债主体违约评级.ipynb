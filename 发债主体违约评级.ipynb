{
 "cells": [
  {
   "cell_type": "code",
   "execution_count": 1,
   "id": "540e04ff",
   "metadata": {},
   "outputs": [],
   "source": [
    "import pandas as pd\n",
    "import akshare as ak\n",
    "from scipy.stats import norm\n",
    "from scipy.optimize import minimize\n",
    "import numpy as np\n",
    "from math import log\n",
    "from sklearn.ensemble import RandomForestClassifier\n",
    "from boruta import BorutaPy"
   ]
  },
  {
   "cell_type": "markdown",
   "id": "6c6dbe07",
   "metadata": {},
   "source": [
    "# 整理模型所需要数据"
   ]
  },
  {
   "cell_type": "code",
   "execution_count": 26,
   "id": "318c8e45",
   "metadata": {},
   "outputs": [],
   "source": [
    "def process(rate_name,fin_name,year):   \n",
    "    mdata = pd.read_csv(rate_name)\n",
    "    #将中债隐含评级数据换为数字\n",
    "    mdata.loc[(mdata[\"F2_0003\"]== 'AAA+'),\"评级\"] = 10\n",
    "    mdata.loc[(mdata[\"F2_0003\"]== 'AAA')  ,\"评级\"] = 9\n",
    "    mdata.loc[(mdata[\"F2_0003\"]== 'AA+')|(mdata[\"F2_0003\"]== 'AAA-')  ,\"评级\"] = 8\n",
    "    mdata.loc[(mdata[\"F2_0003\"]== 'AA')|(mdata[\"F2_0003\"]== 'AA(2)'),\"评级\"] = 7\n",
    "    mdata.loc[mdata[\"F2_0003\"]== 'AA-',\"评级\"] = 6\n",
    "    mdata.loc[(mdata[\"F2_0003\"]== 'A+')  ,\"评级\"] = 5\n",
    "    mdata.loc[(mdata[\"F2_0003\"]== 'A'),\"评级\"] = 4\n",
    "    mdata.loc[(mdata[\"F2_0003\"]== 'A-'),\"评级\"] = 3\n",
    "    mdata.loc[(mdata[\"F2_0003\"]== 'BBB+') |( mdata[\"F2_0003\"]== 'BBB')|( mdata[\"F2_0003\"]== 'BBB-') ,\"评级\"] = 2\n",
    "    mdata.loc[(mdata[\"F2_0003\"]== 'BB') |( mdata[\"F2_0003\"]== 'B') ,\"评级\"] = 1\n",
    "    mdata.loc[(mdata[\"F2_0003\"]== 'CCC') |( mdata[\"F2_0003\"]== 'CC')|( mdata[\"F2_0003\"]== 'C') ,\"评级\"] = 0\n",
    "    #比较年初年末的中债数据\n",
    "    first_date = min(mdata[\"F1_2014\"])\n",
    "    first = mdata.loc[mdata[\"F1_2014\"] ==first_date ]\n",
    "    final_date = max(mdata[\"F1_2014\"])\n",
    "    final = mdata.loc[mdata[\"F1_2014\"] ==final_date ]\n",
    "    #关联年末年初的数据表\n",
    "    data = pd.merge(first,final,on = \"OB_OBJECT_NAME_1090\")\n",
    "    #如果数据下降则下降等于1\n",
    "    data.loc[(data['评级_x']> data['评级_y']),\"下降\"] = 1\n",
    "    data.loc[(data['评级_x']< 3),\"下降\"] = 1\n",
    "    fin_data = pd.read_csv(fin_name)\n",
    "    #和发债主体的财务数据相关联\n",
    "    data = pd.merge(bond,data,left_on  =\"secu_cd\",right_on = \"F16_1090_x\")\n",
    "    data = pd.merge(fin_data,data,left_on =\"corp_id\",right_on = \"issr_id\")\n",
    "    data_defualt = data.loc[data[\"下降\"]==1]\n",
    "    default_company = data_defualt[\"issr_id\"].unique()\n",
    "    company = data[\"issr_id\"].unique()\n",
    "    bond_data = pd.DataFrame()\n",
    "    bond_data[\"ID\"] = company\n",
    "    bond_data.loc[bond_data[\"ID\"].isin(default_company) == 1  ,\"下降\"] = 1\n",
    "    bond_data[\"下降\"] =  bond_data[\"下降\"].fillna(0)\n",
    "    bond_data = pd.merge(bond_data,fin_data,left_on = \"ID\",right_on = \"corp_id\")\n",
    "    bond_data = bond_data.dropna(subset=[\"ebitda\"])\n",
    "    bond_data = bond_data.fillna(0)\n",
    "    \n",
    "    start_year = year + \"-01-01\"\n",
    "    end_year = year + \"-12-31\"\n",
    "    true_defualt = pd.read_csv(\"bond_default.csv\",encoding='gbk')\n",
    "    true_defualt = pd.merge(true_defualt,bond,left_on = \"SecuCode\",right_on = \"secu_cd\")\n",
    "    true_defualt = true_defualt.loc[(true_defualt[\"DefaultDate\"]>start_year)&(true_defualt[\"DefaultDate\"]<end_year)]\n",
    "    true_default = true_defualt[\"issr_id\"].unique()\n",
    "    bond_data.loc[bond_data[\"ID\"].isin(true_default) == 1  ,\"真违约\"] = 1\n",
    "    bond_data[\"真违约\"] = bond_data[\"真违约\"].fillna(0)\n",
    "    \n",
    "   #整理要放入模型的数据\n",
    "    model_data = pd.DataFrame()\n",
    "    model_data[\"企业\"] = bond_data[\"ID\"]\n",
    "    model_data[\"主营业务利润率\"] = bond_data[\"biz_prof_biz_total_ncm_rt\"]\n",
    "    model_data[\"营业成本收入比\"] = bond_data[\"biz_cost_ncm_rt\"]\n",
    "    model_data[\"总资产报酬率\"] = bond_data[\"total_ast_rwrd_rate_ann\"]\n",
    "    model_data[\"总资产收益率\"] = bond_data[\"total_ast_prft_rate\"]\n",
    "    model_data[\"应收账款周转率\"] = bond_data[\"recv_acc_tr\"]\n",
    "    model_data[\"存货周转率\"] = bond_data[\"invt_tr\"]\n",
    "    model_data[\"流动比率\"] =bond_data[\"flow_rt\"]\n",
    "    model_data[\"速度比率\"] = bond_data[\"qr\"]\n",
    "    model_data[\"EBITA/带息债务\"] = bond_data[\"ebitda\"]/(bond_data[\"st_brow\"]+bond_data[\"lt_brow\"])\n",
    "    model_data[\"资产负债率\"] = bond_data[\"ast_liab_rate\"]\n",
    "    model_data[\"短期债务/总债务\"] = bond_data[\"flow_liab_tot\"]/bond_data[\"liab_tot\"]\n",
    "    model_data[\"货币资金/总债务\"] = bond_data[\"crrc_fund\"]/bond_data[\"liab_tot\"]\n",
    "    model_data[\"货币资金/短期债务\"] = bond_data[\"crrc_fund\"]/bond_data[\"flow_liab_tot\"]\n",
    "    model_data[\"营业收入增长率\"] = bond_data[\"biz_ncm_yoy_incr\"]\n",
    "    model_data[\"违约\"] = bond_data[\"下降\"]\n",
    "    model_data[\"真违约\"] = bond_data[\"真违约\"]\n",
    "    model_data =model_data.replace([np.inf, -np.inf], np.nan) \n",
    "    model_data = model_data.dropna()\n",
    "    model_data = model_data.drop_duplicates(subset=[\"企业\"] )\n",
    "    return model_data"
   ]
  },
  {
   "cell_type": "code",
   "execution_count": 136,
   "id": "d28b4d4f",
   "metadata": {},
   "outputs": [],
   "source": [
    "bond = pd.read_csv(\"new bond.csv\")\n",
    "data_2018 = process(\"2018 中债.csv\",\"2018  data.csv\",\"2018\")\n",
    "data_2019 = process(\"2019 中债.csv\",\"2019  data.csv\",\"2019\")\n",
    "data_2020 = process(\"2020 中债.csv\",\"2020  data.csv\",\"2020\")\n",
    "model_data = pd.concat([data_2018,data_2019,data_2020])\n",
    "model_data.to_csv(\"model_data.csv\")"
   ]
  },
  {
   "cell_type": "markdown",
   "id": "49bedfec",
   "metadata": {},
   "source": [
    "# 展示数据"
   ]
  },
  {
   "cell_type": "code",
   "execution_count": 134,
   "id": "8b0bcb69",
   "metadata": {},
   "outputs": [
    {
     "data": {
      "image/png": "[encoded data removed]",
      "text/plain": [
       "<Figure size 432x288 with 1 Axes>"
      ]
     },
     "metadata": {
      "needs_background": "light"
     },
     "output_type": "display_data"
    }
   ],
   "source": [
    "import matplotlib.pyplot as plt\n",
    "import numpy as np\n",
    "# 这两行代码解决 plt 中文显示的问题\n",
    "plt.rcParams['font.sans-serif'] = ['SimHei']\n",
    "plt.rcParams['axes.unicode_minus'] = False\n",
    "# 输入统计数据\n",
    "waters = (\"2018\",\"2019\",\"2020\")\n",
    "lenth = [len(data_2018),len(data_2019),len(data_2020)]\n",
    "down = [sum(data_2018[\"违约\"]),sum(data_2019[\"违约\"]),sum(data_2020[\"违约\"])]\n",
    "default  = [sum(data_2018[\"真违约\"]),sum(data_2019[\"真违约\"]),sum(data_2020[\"真违约\"])]\n",
    "bar_width = 0.3 # 条形宽度\n",
    "index_male = np.arange(len(waters)) \n",
    "index_female = index_male + bar_width\n",
    "index_a = index_male + bar_width*2\n",
    "# 使用两次 bar 函数画出两组条形图\n",
    "plt.bar(index_male, height=lenth, width=bar_width, color='b', label='样本数')\n",
    "plt.bar(index_female, height=down, width=bar_width, color='g', label='下降样本数')\n",
    "plt.bar(index_a, height=default, width=bar_width, color='r', label='违约样本数')\n",
    "plt.legend() # 显示图例\n",
    "plt.legend() # 显示图例\n",
    "plt.xticks(index_male + bar_width, waters) \n",
    "plt.ylabel('样本数') # 纵坐标轴标题\n",
    "plt.title('数据样本统计') # 图形标题\n",
    "plt.show()"
   ]
  },
  {
   "cell_type": "markdown",
   "id": "0455ac22",
   "metadata": {},
   "source": [
    "# 使用Linear Reg 进行预测"
   ]
  },
  {
   "cell_type": "code",
   "execution_count": 155,
   "id": "129ab0fd",
   "metadata": {},
   "outputs": [],
   "source": [
    "from sklearn.model_selection import train_test_split\n",
    "from sklearn.linear_model import LogisticRegression\n",
    "from sklearn.metrics import precision_score\n",
    "from sklearn.metrics import recall_score\n",
    "y = model_data[\"违约\"]\n",
    "X = model_data.drop(columns=['企业', '违约'])\n",
    "X_train, X_test, y_train, y_test = train_test_split(X, y,train_size=0.7, test_size=0.3, random_state=188)\n",
    "true_train = X_train[\"真违约\"]\n",
    "true_test = X_test[\"真违约\"]\n",
    "X_train = X_train.drop(columns=[\"真违约\"])\n",
    "X_test = X_test.drop(columns=[\"真违约\"])\n",
    "\n",
    "\n",
    "\n",
    "clf = LogisticRegression( max_iter=3000)\n",
    "\n",
    "# 使用训练数据来学习（拟合），不需要返回值，训练的结果都在对象内部变量中\n",
    "clf.fit(X_train, y_train)\n",
    "\n",
    "y_pred_lr = clf.predict(X_test)\n",
    "lr_test = clf.score(X_test,y_test)\n",
    "lr_test_pre = precision_score(y_test, y_pred_lr)\n",
    "lr_test_recall= recall_score(y_test, y_pred_lr)"
   ]
  },
  {
   "cell_type": "code",
   "execution_count": 156,
   "id": "98ba10e4",
   "metadata": {},
   "outputs": [
    {
     "data": {
      "text/plain": [
       "[0.8611111111111112, 0.8571428571428571, 0.3]"
      ]
     },
     "execution_count": 156,
     "metadata": {},
     "output_type": "execute_result"
    }
   ],
   "source": [
    "[lr_test,lr_test_pre,lr_test_recall]"
   ]
  },
  {
   "cell_type": "code",
   "execution_count": 157,
   "id": "174ead8c",
   "metadata": {},
   "outputs": [
    {
     "data": {
      "text/plain": [
       "[0.9537037037037037, 0.5, 0.7]"
      ]
     },
     "execution_count": 157,
     "metadata": {},
     "output_type": "execute_result"
    }
   ],
   "source": [
    "[ accuracy_score(true_test,y_pred_lr),precision_score(true_test,y_pred_lr), recall_score(true_test,y_pred_lr)] "
   ]
  },
  {
   "cell_type": "markdown",
   "id": "2e041ed1",
   "metadata": {},
   "source": [
    "# 使用XG boost 进行预测，绘制重要性表"
   ]
  },
  {
   "cell_type": "code",
   "execution_count": 142,
   "id": "d1341b62",
   "metadata": {},
   "outputs": [
    {
     "data": {
      "text/plain": [
       "<AxesSubplot:title={'center':'Feature importance'}, xlabel='F score', ylabel='Features'>"
      ]
     },
     "execution_count": 142,
     "metadata": {},
     "output_type": "execute_result"
    },
    {
     "data": {
      "image/png": "[encoded data removed]",
      "text/plain": [
       "<Figure size 432x288 with 1 Axes>"
      ]
     },
     "metadata": {
      "needs_background": "light"
     },
     "output_type": "display_data"
    }
   ],
   "source": [
    "import xgboost as xgb\n",
    "from xgboost import plot_importance\n",
    "\n",
    "other_params = {'max_depth': 2, 'n_estimators': 600, 'scale_pos_weight': 5,'colsample_bytree': 0.8, 'gamma': 0.0001, 'min_child_weight': 5,'learning_rate': 0.01, 'subsample': 0.7}\n",
    "xgboost_model = xgb.XGBClassifier(**other_params).fit(X_train,y_train)\n",
    "#plot_importance(xgboost_model)\n",
    "pred_xgboost = xgboost_model.predict(X_test)\n",
    "xgb_test = xgboost_model.score(X_test,y_test)\n",
    "xgb_test_pre = precision_score(y_test, pred_xgboost)\n",
    "xgb_test_recall =  recall_score(y_test, pred_xgboost)\n",
    "plot_importance(xgboost_model)"
   ]
  },
  {
   "cell_type": "code",
   "execution_count": 143,
   "id": "7b2a95a1",
   "metadata": {},
   "outputs": [
    {
     "data": {
      "text/plain": [
       "[0.7777777777777778, 0.42452830188679247, 0.5625]"
      ]
     },
     "execution_count": 143,
     "metadata": {},
     "output_type": "execute_result"
    }
   ],
   "source": [
    "[xgb_test,xgb_test_pre,xgb_test_recall]"
   ]
  },
  {
   "cell_type": "code",
   "execution_count": 144,
   "id": "cf2188d1",
   "metadata": {},
   "outputs": [
    {
     "data": {
      "text/plain": [
       "[0.7870370370370371, 0.16037735849056603, 0.85]"
      ]
     },
     "execution_count": 144,
     "metadata": {},
     "output_type": "execute_result"
    }
   ],
   "source": [
    "[ accuracy_score(true_test,pred_xgboost),precision_score(true_test,pred_xgboost), recall_score(true_test,pred_xgboost)] "
   ]
  },
  {
   "cell_type": "markdown",
   "id": "5084ef95",
   "metadata": {},
   "source": [
    "# 对Xgboost进行调参"
   ]
  },
  {
   "cell_type": "code",
   "execution_count": 75,
   "id": "f5781303",
   "metadata": {
    "scrolled": true
   },
   "outputs": [
    {
     "name": "stdout",
     "output_type": "stream",
     "text": [
      "0.463351  with:   {'learning_rate': 1e-05, 'subsample': 0.5}\n",
      "0.465953  with:   {'learning_rate': 1e-05, 'subsample': 0.6}\n",
      "0.463225  with:   {'learning_rate': 1e-05, 'subsample': 0.7}\n",
      "0.463046  with:   {'learning_rate': 1e-05, 'subsample': 0.8}\n",
      "0.460831  with:   {'learning_rate': 1e-05, 'subsample': 0.9}\n",
      "0.463351  with:   {'learning_rate': 0.0001, 'subsample': 0.5}\n",
      "0.464820  with:   {'learning_rate': 0.0001, 'subsample': 0.6}\n",
      "0.463225  with:   {'learning_rate': 0.0001, 'subsample': 0.7}\n",
      "0.461714  with:   {'learning_rate': 0.0001, 'subsample': 0.8}\n",
      "0.459415  with:   {'learning_rate': 0.0001, 'subsample': 0.9}\n",
      "0.463549  with:   {'learning_rate': 0.001, 'subsample': 0.5}\n",
      "0.463270  with:   {'learning_rate': 0.001, 'subsample': 0.6}\n",
      "0.464563  with:   {'learning_rate': 0.001, 'subsample': 0.7}\n",
      "0.464258  with:   {'learning_rate': 0.001, 'subsample': 0.8}\n",
      "0.462983  with:   {'learning_rate': 0.001, 'subsample': 0.9}\n",
      "0.466123  with:   {'learning_rate': 0.01, 'subsample': 0.5}\n",
      "0.468762  with:   {'learning_rate': 0.01, 'subsample': 0.6}\n",
      "0.470940  with:   {'learning_rate': 0.01, 'subsample': 0.7}\n",
      "0.459968  with:   {'learning_rate': 0.01, 'subsample': 0.8}\n",
      "0.462735  with:   {'learning_rate': 0.01, 'subsample': 0.9}\n",
      "0.448867  with:   {'learning_rate': 0.1, 'subsample': 0.5}\n",
      "0.420917  with:   {'learning_rate': 0.1, 'subsample': 0.6}\n",
      "0.427529  with:   {'learning_rate': 0.1, 'subsample': 0.7}\n",
      "0.445025  with:   {'learning_rate': 0.1, 'subsample': 0.8}\n",
      "0.437749  with:   {'learning_rate': 0.1, 'subsample': 0.9}\n"
     ]
    }
   ],
   "source": [
    "from sklearn.model_selection import GridSearchCV\n",
    "\n",
    "other_params = {'max_depth': 2, 'n_estimators': 600, 'scale_pos_weight': 5,'colsample_bytree': 0.8, 'gamma': 0.0001, 'min_child_weight': 5,'learning_rate': 0.01, 'subsample': 0.7}\n",
    "param_grid = {'subsample': [0.5,0.6,0.7,0.8,0.9],\n",
    "              'learning_rate' : [1e-5,1e-4,1e-3,1e-2,1e-1]}\n",
    "grid_search = GridSearchCV(xgboost_model,param_grid,n_jobs = -1,cv = 3,scoring = \"f1\")\n",
    "grid_result = grid_search.fit(X_train, y_train)\n",
    "means = grid_result.cv_results_['mean_test_score']\n",
    "params = grid_result.cv_results_['params']\n",
    "for mean,param in zip(means,params):\n",
    "    print(\"%f  with:   %r\" % (mean,param))\n"
   ]
  },
  {
   "cell_type": "code",
   "execution_count": null,
   "id": "7295facd",
   "metadata": {},
   "outputs": [],
   "source": [
    "{'n_estimators': [400,500,600,700,800,900], \n",
    "              'scale_pos_weight': [4,5,6,7,8,9],\n",
    "              'max_depth': [1,2,3,4,5,6], \n",
    "              'min_child_weight': [2,3,4,5,6],\n",
    "              'colsample_bytree': [0.4,0.5,0.6,0.7,0.8],\n",
    "              'gamma': [1e-4,1e-3,1e-2,1e-1,1],\n",
    "              'subsample': [0.5,0.6,0.7,0.8,0.9],\n",
    "              'learning_rate' : [1e-5,1e-4,1e-3,1e-2,1e-1]"
   ]
  },
  {
   "cell_type": "code",
   "execution_count": 76,
   "id": "8e789b17",
   "metadata": {},
   "outputs": [
    {
     "name": "stdout",
     "output_type": "stream",
     "text": [
      "最优参数组合: {'learning_rate': 0.01, 'subsample': 0.7} 最好得分: 0.4709395332071731\n"
     ]
    }
   ],
   "source": [
    "\n",
    "print('最优参数组合:', grid_result.best_params_, '最好得分:', grid_result.best_score_)\n"
   ]
  },
  {
   "cell_type": "markdown",
   "id": "b27c4044",
   "metadata": {},
   "source": [
    "# 使用SVM进行训练"
   ]
  },
  {
   "cell_type": "code",
   "execution_count": 119,
   "id": "619b2fc8",
   "metadata": {},
   "outputs": [],
   "source": [
    "from sklearn import svm\n",
    "clf = svm.SVC()\n",
    "from sklearn.preprocessing import StandardScaler  # 归一化\n",
    "\n",
    "# 归一化操作\n",
    "scaler = StandardScaler()\n",
    "X_train = scaler.fit_transform(X_train)\n",
    "X_test = scaler.transform(X_test)\n",
    "\n",
    "\n",
    "clf.fit(X_train, y_train)\n",
    "y_pred_svm = clf.predict(X_test)\n",
    "svm_train = clf.score(X_test,y_test)\n",
    "svm_train_pre = precision_score(y_test, y_pred_svm)\n",
    "svm_train_recall= recall_score(y_test, y_pred_svm)\n"
   ]
  },
  {
   "cell_type": "code",
   "execution_count": 120,
   "id": "97ad9deb",
   "metadata": {},
   "outputs": [
    {
     "data": {
      "text/plain": [
       "[0.8425925925925926, 0.8, 0.2]"
      ]
     },
     "execution_count": 120,
     "metadata": {},
     "output_type": "execute_result"
    }
   ],
   "source": [
    "[svm_train,svm_train_pre,svm_train_recall]"
   ]
  },
  {
   "cell_type": "code",
   "execution_count": 145,
   "id": "77b4897a",
   "metadata": {},
   "outputs": [
    {
     "data": {
      "text/plain": [
       "[0.9490740740740741, 0.45, 0.45]"
      ]
     },
     "execution_count": 145,
     "metadata": {},
     "output_type": "execute_result"
    }
   ],
   "source": [
    "[ accuracy_score(true_test,y_pred_svm),precision_score(true_test,y_pred_svm), recall_score(true_test,y_pred_svm)]"
   ]
  },
  {
   "cell_type": "markdown",
   "id": "258dc020",
   "metadata": {},
   "source": [
    "# 使用XGBOD进行训练"
   ]
  },
  {
   "cell_type": "code",
   "execution_count": 152,
   "id": "9a892e93",
   "metadata": {},
   "outputs": [
    {
     "name": "stdout",
     "output_type": "stream",
     "text": [
      "[17:35:02] WARNING: C:/Users/Administrator/workspace/xgboost-win64_release_1.6.0/src/learner.cc:627: \n",
      "Parameters: { \"silent\" } might not be used.\n",
      "\n",
      "  This could be a false alarm, with some parameters getting used by language bindings but\n",
      "  then being mistakenly passed down to XGBoost core, or some parameter actually being used\n",
      "  but getting flagged wrongly here. Please open an issue if you find any such cases.\n",
      "\n",
      "\n"
     ]
    }
   ],
   "source": [
    "from pyod.models.xgbod import XGBOD   # imprt kNN分类器\n",
    "from sklearn.metrics import accuracy_score\n",
    "# 训练一个kNN检测器\n",
    "clf_name = 'XGBOD'\n",
    "other_params = {'max_depth': 1, 'n_estimators': 500, 'scale_pos_weight': 4,'colsample_bytree': 0.4, 'gamma': 0.0001, 'min_child_weight': 2,'learning_rate': 0.01, 'subsample': 0.9}\n",
    "clf = XGBOD(**other_params)\n",
    "clf.fit(X_train,y_train) # 使用X_train训练检测器clf\n",
    "pred_xgbod = clf.predict(X_test)  # outlier labels (0 or 1)\n",
    "y_train_pred = clf.labels_\n",
    "xgbod_precision= precision_score(y_test,pred_xgbod)\n",
    "xgbod_acc = accuracy_score(y_test,pred_xgbod)\n",
    "xgbod_recall = recall_score(y_test,pred_xgbod)"
   ]
  },
  {
   "cell_type": "code",
   "execution_count": 153,
   "id": "59d20adb",
   "metadata": {},
   "outputs": [
    {
     "data": {
      "text/plain": [
       "[0.8078703703703703, 0.4819277108433735, 0.5]"
      ]
     },
     "execution_count": 153,
     "metadata": {},
     "output_type": "execute_result"
    }
   ],
   "source": [
    "[xgbod_acc,xgbod_precision,xgbod_recall]"
   ]
  },
  {
   "cell_type": "code",
   "execution_count": 154,
   "id": "673706aa",
   "metadata": {},
   "outputs": [
    {
     "data": {
      "text/plain": [
       "[0.8402777777777778, 0.20481927710843373, 0.85]"
      ]
     },
     "execution_count": 154,
     "metadata": {},
     "output_type": "execute_result"
    }
   ],
   "source": [
    "[ accuracy_score(true_test,pred_xgbod),precision_score(true_test,pred_xgbod), recall_score(true_test,pred_xgbod)] "
   ]
  },
  {
   "cell_type": "markdown",
   "id": "d5c1a857",
   "metadata": {},
   "source": [
    "# 整理测试集违约数据"
   ]
  },
  {
   "cell_type": "code",
   "execution_count": 69,
   "id": "f5c3b1d5",
   "metadata": {},
   "outputs": [
    {
     "data": {
      "text/html": [
       "<div>\n",
       "<style scoped>\n",
       "    .dataframe tbody tr th:only-of-type {\n",
       "        vertical-align: middle;\n",
       "    }\n",
       "\n",
       "    .dataframe tbody tr th {\n",
       "        vertical-align: top;\n",
       "    }\n",
       "\n",
       "    .dataframe thead th {\n",
       "        text-align: right;\n",
       "    }\n",
       "</style>\n",
       "<table border=\"1\" class=\"dataframe\">\n",
       "  <thead>\n",
       "    <tr style=\"text-align: right;\">\n",
       "      <th></th>\n",
       "      <th>主营业务利润率</th>\n",
       "      <th>营业成本收入比</th>\n",
       "      <th>总资产报酬率</th>\n",
       "      <th>总资产收益率</th>\n",
       "      <th>应收账款周转率</th>\n",
       "      <th>存货周转率</th>\n",
       "      <th>流动比率</th>\n",
       "      <th>速度比率</th>\n",
       "      <th>EBITA/带息债务</th>\n",
       "      <th>资产负债率</th>\n",
       "      <th>短期债务/总债务</th>\n",
       "      <th>货币资金/总债务</th>\n",
       "      <th>货币资金/短期债务</th>\n",
       "      <th>营业收入增长率</th>\n",
       "      <th>真实违约</th>\n",
       "      <th>中债下降</th>\n",
       "      <th>模型预测</th>\n",
       "    </tr>\n",
       "  </thead>\n",
       "  <tbody>\n",
       "    <tr>\n",
       "      <th>611</th>\n",
       "      <td>-58.0135</td>\n",
       "      <td>158.5524</td>\n",
       "      <td>-35.5538</td>\n",
       "      <td>-39.8015</td>\n",
       "      <td>373.9649</td>\n",
       "      <td>1.9386</td>\n",
       "      <td>0.8300</td>\n",
       "      <td>0.5396</td>\n",
       "      <td>-0.832706</td>\n",
       "      <td>106.2912</td>\n",
       "      <td>0.833081</td>\n",
       "      <td>0.022021</td>\n",
       "      <td>0.026433</td>\n",
       "      <td>-41.8275</td>\n",
       "      <td>1.0</td>\n",
       "      <td>1.0</td>\n",
       "      <td>1</td>\n",
       "    </tr>\n",
       "    <tr>\n",
       "      <th>3</th>\n",
       "      <td>-23.7977</td>\n",
       "      <td>125.4409</td>\n",
       "      <td>17.3928</td>\n",
       "      <td>13.1278</td>\n",
       "      <td>27.9557</td>\n",
       "      <td>7.2261</td>\n",
       "      <td>2.5257</td>\n",
       "      <td>1.9592</td>\n",
       "      <td>26.285066</td>\n",
       "      <td>20.8335</td>\n",
       "      <td>0.789756</td>\n",
       "      <td>1.100705</td>\n",
       "      <td>1.393728</td>\n",
       "      <td>9.7500</td>\n",
       "      <td>1.0</td>\n",
       "      <td>1.0</td>\n",
       "      <td>0</td>\n",
       "    </tr>\n",
       "    <tr>\n",
       "      <th>523</th>\n",
       "      <td>22.0206</td>\n",
       "      <td>301.0405</td>\n",
       "      <td>5.1804</td>\n",
       "      <td>0.3112</td>\n",
       "      <td>3.5272</td>\n",
       "      <td>1.7699</td>\n",
       "      <td>3.0921</td>\n",
       "      <td>1.9628</td>\n",
       "      <td>0.353929</td>\n",
       "      <td>37.5048</td>\n",
       "      <td>0.354617</td>\n",
       "      <td>0.365852</td>\n",
       "      <td>1.031683</td>\n",
       "      <td>-51.1783</td>\n",
       "      <td>1.0</td>\n",
       "      <td>1.0</td>\n",
       "      <td>0</td>\n",
       "    </tr>\n",
       "    <tr>\n",
       "      <th>820</th>\n",
       "      <td>-66.2396</td>\n",
       "      <td>183.6707</td>\n",
       "      <td>-16.1528</td>\n",
       "      <td>-19.2913</td>\n",
       "      <td>3.4081</td>\n",
       "      <td>2.1389</td>\n",
       "      <td>1.2872</td>\n",
       "      <td>1.1313</td>\n",
       "      <td>-0.522339</td>\n",
       "      <td>75.1412</td>\n",
       "      <td>0.954500</td>\n",
       "      <td>0.074219</td>\n",
       "      <td>0.077757</td>\n",
       "      <td>-71.4859</td>\n",
       "      <td>1.0</td>\n",
       "      <td>1.0</td>\n",
       "      <td>1</td>\n",
       "    </tr>\n",
       "    <tr>\n",
       "      <th>520</th>\n",
       "      <td>-15.2089</td>\n",
       "      <td>114.8067</td>\n",
       "      <td>-2.5883</td>\n",
       "      <td>-5.0791</td>\n",
       "      <td>1.6552</td>\n",
       "      <td>7.3391</td>\n",
       "      <td>0.8431</td>\n",
       "      <td>0.7594</td>\n",
       "      <td>-0.056568</td>\n",
       "      <td>53.7302</td>\n",
       "      <td>0.876651</td>\n",
       "      <td>0.068100</td>\n",
       "      <td>0.077682</td>\n",
       "      <td>-25.4666</td>\n",
       "      <td>1.0</td>\n",
       "      <td>1.0</td>\n",
       "      <td>1</td>\n",
       "    </tr>\n",
       "    <tr>\n",
       "      <th>509</th>\n",
       "      <td>-309.3032</td>\n",
       "      <td>422.0088</td>\n",
       "      <td>-77.2142</td>\n",
       "      <td>-140.1428</td>\n",
       "      <td>9.4145</td>\n",
       "      <td>0.9245</td>\n",
       "      <td>0.0642</td>\n",
       "      <td>0.0484</td>\n",
       "      <td>-0.197592</td>\n",
       "      <td>1049.5294</td>\n",
       "      <td>0.937625</td>\n",
       "      <td>0.020107</td>\n",
       "      <td>0.021445</td>\n",
       "      <td>9.9677</td>\n",
       "      <td>1.0</td>\n",
       "      <td>1.0</td>\n",
       "      <td>1</td>\n",
       "    </tr>\n",
       "    <tr>\n",
       "      <th>391</th>\n",
       "      <td>-532.5414</td>\n",
       "      <td>635.4254</td>\n",
       "      <td>-40.6484</td>\n",
       "      <td>-45.6245</td>\n",
       "      <td>0.3289</td>\n",
       "      <td>4.2922</td>\n",
       "      <td>0.6695</td>\n",
       "      <td>0.6550</td>\n",
       "      <td>-21.141796</td>\n",
       "      <td>80.0015</td>\n",
       "      <td>0.920276</td>\n",
       "      <td>0.045506</td>\n",
       "      <td>0.049448</td>\n",
       "      <td>-66.4338</td>\n",
       "      <td>1.0</td>\n",
       "      <td>1.0</td>\n",
       "      <td>1</td>\n",
       "    </tr>\n",
       "    <tr>\n",
       "      <th>308</th>\n",
       "      <td>-251.3136</td>\n",
       "      <td>437.6026</td>\n",
       "      <td>-96.7884</td>\n",
       "      <td>-94.0439</td>\n",
       "      <td>33.9548</td>\n",
       "      <td>4.9778</td>\n",
       "      <td>0.3145</td>\n",
       "      <td>0.2377</td>\n",
       "      <td>-2.066554</td>\n",
       "      <td>229.0134</td>\n",
       "      <td>0.565974</td>\n",
       "      <td>0.028755</td>\n",
       "      <td>0.050807</td>\n",
       "      <td>-0.2267</td>\n",
       "      <td>1.0</td>\n",
       "      <td>1.0</td>\n",
       "      <td>1</td>\n",
       "    </tr>\n",
       "    <tr>\n",
       "      <th>254</th>\n",
       "      <td>-134.2946</td>\n",
       "      <td>229.4077</td>\n",
       "      <td>-1.6373</td>\n",
       "      <td>-2.2666</td>\n",
       "      <td>3.1450</td>\n",
       "      <td>0.0213</td>\n",
       "      <td>1.2847</td>\n",
       "      <td>0.1312</td>\n",
       "      <td>-0.051073</td>\n",
       "      <td>90.7456</td>\n",
       "      <td>0.668612</td>\n",
       "      <td>0.014885</td>\n",
       "      <td>0.022263</td>\n",
       "      <td>-84.6975</td>\n",
       "      <td>1.0</td>\n",
       "      <td>1.0</td>\n",
       "      <td>1</td>\n",
       "    </tr>\n",
       "    <tr>\n",
       "      <th>688</th>\n",
       "      <td>15.5516</td>\n",
       "      <td>86.4426</td>\n",
       "      <td>9.3509</td>\n",
       "      <td>3.4466</td>\n",
       "      <td>63.1230</td>\n",
       "      <td>3.4359</td>\n",
       "      <td>0.5033</td>\n",
       "      <td>0.2756</td>\n",
       "      <td>0.232761</td>\n",
       "      <td>71.0742</td>\n",
       "      <td>0.602457</td>\n",
       "      <td>0.061970</td>\n",
       "      <td>0.102863</td>\n",
       "      <td>30.0184</td>\n",
       "      <td>1.0</td>\n",
       "      <td>0.0</td>\n",
       "      <td>0</td>\n",
       "    </tr>\n",
       "    <tr>\n",
       "      <th>877</th>\n",
       "      <td>-488.8467</td>\n",
       "      <td>582.6791</td>\n",
       "      <td>-45.7883</td>\n",
       "      <td>-47.9209</td>\n",
       "      <td>0.2265</td>\n",
       "      <td>0.5874</td>\n",
       "      <td>2.4709</td>\n",
       "      <td>2.1641</td>\n",
       "      <td>-22.744586</td>\n",
       "      <td>51.4551</td>\n",
       "      <td>0.725014</td>\n",
       "      <td>0.068666</td>\n",
       "      <td>0.094710</td>\n",
       "      <td>-83.4405</td>\n",
       "      <td>1.0</td>\n",
       "      <td>1.0</td>\n",
       "      <td>1</td>\n",
       "    </tr>\n",
       "    <tr>\n",
       "      <th>353</th>\n",
       "      <td>-43.3011</td>\n",
       "      <td>130.2250</td>\n",
       "      <td>-10.9013</td>\n",
       "      <td>-12.7395</td>\n",
       "      <td>1.9742</td>\n",
       "      <td>37.7075</td>\n",
       "      <td>1.1116</td>\n",
       "      <td>1.0930</td>\n",
       "      <td>-0.413571</td>\n",
       "      <td>70.9302</td>\n",
       "      <td>0.745084</td>\n",
       "      <td>0.224745</td>\n",
       "      <td>0.301637</td>\n",
       "      <td>-73.2490</td>\n",
       "      <td>1.0</td>\n",
       "      <td>1.0</td>\n",
       "      <td>1</td>\n",
       "    </tr>\n",
       "    <tr>\n",
       "      <th>418</th>\n",
       "      <td>-2593.8887</td>\n",
       "      <td>2687.5997</td>\n",
       "      <td>-20.1918</td>\n",
       "      <td>-23.3932</td>\n",
       "      <td>0.0300</td>\n",
       "      <td>0.0116</td>\n",
       "      <td>1.2532</td>\n",
       "      <td>0.9081</td>\n",
       "      <td>-1.431871</td>\n",
       "      <td>77.2268</td>\n",
       "      <td>0.940014</td>\n",
       "      <td>0.002383</td>\n",
       "      <td>0.002535</td>\n",
       "      <td>-98.1757</td>\n",
       "      <td>1.0</td>\n",
       "      <td>1.0</td>\n",
       "      <td>1</td>\n",
       "    </tr>\n",
       "    <tr>\n",
       "      <th>775</th>\n",
       "      <td>-64.6232</td>\n",
       "      <td>160.5196</td>\n",
       "      <td>-24.1562</td>\n",
       "      <td>-37.0953</td>\n",
       "      <td>1.3601</td>\n",
       "      <td>0.6170</td>\n",
       "      <td>0.4603</td>\n",
       "      <td>0.3080</td>\n",
       "      <td>-0.582608</td>\n",
       "      <td>214.6261</td>\n",
       "      <td>0.729151</td>\n",
       "      <td>0.128836</td>\n",
       "      <td>0.176693</td>\n",
       "      <td>-92.9092</td>\n",
       "      <td>1.0</td>\n",
       "      <td>1.0</td>\n",
       "      <td>1</td>\n",
       "    </tr>\n",
       "    <tr>\n",
       "      <th>268</th>\n",
       "      <td>-151.2772</td>\n",
       "      <td>252.7127</td>\n",
       "      <td>-17.9433</td>\n",
       "      <td>-23.5283</td>\n",
       "      <td>1.6346</td>\n",
       "      <td>1.4436</td>\n",
       "      <td>0.7433</td>\n",
       "      <td>0.6739</td>\n",
       "      <td>-0.410775</td>\n",
       "      <td>99.4873</td>\n",
       "      <td>0.803996</td>\n",
       "      <td>0.026726</td>\n",
       "      <td>0.033242</td>\n",
       "      <td>-59.5984</td>\n",
       "      <td>1.0</td>\n",
       "      <td>1.0</td>\n",
       "      <td>1</td>\n",
       "    </tr>\n",
       "    <tr>\n",
       "      <th>376</th>\n",
       "      <td>-846.9137</td>\n",
       "      <td>947.9733</td>\n",
       "      <td>-4.6504</td>\n",
       "      <td>-11.3248</td>\n",
       "      <td>2.2585</td>\n",
       "      <td>0.0198</td>\n",
       "      <td>0.8937</td>\n",
       "      <td>0.2323</td>\n",
       "      <td>-0.454236</td>\n",
       "      <td>91.1772</td>\n",
       "      <td>0.999974</td>\n",
       "      <td>0.004180</td>\n",
       "      <td>0.004180</td>\n",
       "      <td>-43.7513</td>\n",
       "      <td>1.0</td>\n",
       "      <td>1.0</td>\n",
       "      <td>1</td>\n",
       "    </tr>\n",
       "    <tr>\n",
       "      <th>587</th>\n",
       "      <td>-617.8535</td>\n",
       "      <td>700.0047</td>\n",
       "      <td>-24.1104</td>\n",
       "      <td>-31.7594</td>\n",
       "      <td>0.3857</td>\n",
       "      <td>0.0568</td>\n",
       "      <td>0.7969</td>\n",
       "      <td>0.1215</td>\n",
       "      <td>-0.569605</td>\n",
       "      <td>112.0172</td>\n",
       "      <td>0.995145</td>\n",
       "      <td>0.005245</td>\n",
       "      <td>0.005271</td>\n",
       "      <td>-69.5872</td>\n",
       "      <td>1.0</td>\n",
       "      <td>1.0</td>\n",
       "      <td>1</td>\n",
       "    </tr>\n",
       "    <tr>\n",
       "      <th>84</th>\n",
       "      <td>-33.8041</td>\n",
       "      <td>140.9109</td>\n",
       "      <td>-3.1188</td>\n",
       "      <td>-6.7678</td>\n",
       "      <td>2.3497</td>\n",
       "      <td>0.3045</td>\n",
       "      <td>1.6897</td>\n",
       "      <td>0.5609</td>\n",
       "      <td>-0.090139</td>\n",
       "      <td>68.0257</td>\n",
       "      <td>0.633275</td>\n",
       "      <td>0.011408</td>\n",
       "      <td>0.018014</td>\n",
       "      <td>-32.9300</td>\n",
       "      <td>1.0</td>\n",
       "      <td>1.0</td>\n",
       "      <td>1</td>\n",
       "    </tr>\n",
       "    <tr>\n",
       "      <th>529</th>\n",
       "      <td>-59.2778</td>\n",
       "      <td>1163.6179</td>\n",
       "      <td>2.9523</td>\n",
       "      <td>0.3274</td>\n",
       "      <td>0.1089</td>\n",
       "      <td>2.3336</td>\n",
       "      <td>1.1136</td>\n",
       "      <td>0.8953</td>\n",
       "      <td>0.184931</td>\n",
       "      <td>93.5552</td>\n",
       "      <td>0.945810</td>\n",
       "      <td>0.000845</td>\n",
       "      <td>0.000893</td>\n",
       "      <td>-91.0732</td>\n",
       "      <td>1.0</td>\n",
       "      <td>1.0</td>\n",
       "      <td>1</td>\n",
       "    </tr>\n",
       "    <tr>\n",
       "      <th>135</th>\n",
       "      <td>-501.5115</td>\n",
       "      <td>601.9818</td>\n",
       "      <td>-50.6400</td>\n",
       "      <td>-55.0321</td>\n",
       "      <td>1.7816</td>\n",
       "      <td>0.2570</td>\n",
       "      <td>0.9597</td>\n",
       "      <td>0.5636</td>\n",
       "      <td>-2.003570</td>\n",
       "      <td>119.4935</td>\n",
       "      <td>0.527408</td>\n",
       "      <td>0.012764</td>\n",
       "      <td>0.024202</td>\n",
       "      <td>-52.7152</td>\n",
       "      <td>1.0</td>\n",
       "      <td>1.0</td>\n",
       "      <td>1</td>\n",
       "    </tr>\n",
       "  </tbody>\n",
       "</table>\n",
       "</div>"
      ],
      "text/plain": [
       "       主营业务利润率    营业成本收入比   总资产报酬率    总资产收益率   应收账款周转率    存货周转率    流动比率  \\\n",
       "611   -58.0135   158.5524 -35.5538  -39.8015  373.9649   1.9386  0.8300   \n",
       "3     -23.7977   125.4409  17.3928   13.1278   27.9557   7.2261  2.5257   \n",
       "523    22.0206   301.0405   5.1804    0.3112    3.5272   1.7699  3.0921   \n",
       "820   -66.2396   183.6707 -16.1528  -19.2913    3.4081   2.1389  1.2872   \n",
       "520   -15.2089   114.8067  -2.5883   -5.0791    1.6552   7.3391  0.8431   \n",
       "509  -309.3032   422.0088 -77.2142 -140.1428    9.4145   0.9245  0.0642   \n",
       "391  -532.5414   635.4254 -40.6484  -45.6245    0.3289   4.2922  0.6695   \n",
       "308  -251.3136   437.6026 -96.7884  -94.0439   33.9548   4.9778  0.3145   \n",
       "254  -134.2946   229.4077  -1.6373   -2.2666    3.1450   0.0213  1.2847   \n",
       "688    15.5516    86.4426   9.3509    3.4466   63.1230   3.4359  0.5033   \n",
       "877  -488.8467   582.6791 -45.7883  -47.9209    0.2265   0.5874  2.4709   \n",
       "353   -43.3011   130.2250 -10.9013  -12.7395    1.9742  37.7075  1.1116   \n",
       "418 -2593.8887  2687.5997 -20.1918  -23.3932    0.0300   0.0116  1.2532   \n",
       "775   -64.6232   160.5196 -24.1562  -37.0953    1.3601   0.6170  0.4603   \n",
       "268  -151.2772   252.7127 -17.9433  -23.5283    1.6346   1.4436  0.7433   \n",
       "376  -846.9137   947.9733  -4.6504  -11.3248    2.2585   0.0198  0.8937   \n",
       "587  -617.8535   700.0047 -24.1104  -31.7594    0.3857   0.0568  0.7969   \n",
       "84    -33.8041   140.9109  -3.1188   -6.7678    2.3497   0.3045  1.6897   \n",
       "529   -59.2778  1163.6179   2.9523    0.3274    0.1089   2.3336  1.1136   \n",
       "135  -501.5115   601.9818 -50.6400  -55.0321    1.7816   0.2570  0.9597   \n",
       "\n",
       "       速度比率  EBITA/带息债务      资产负债率  短期债务/总债务  货币资金/总债务  货币资金/短期债务  营业收入增长率  \\\n",
       "611  0.5396   -0.832706   106.2912  0.833081  0.022021   0.026433 -41.8275   \n",
       "3    1.9592   26.285066    20.8335  0.789756  1.100705   1.393728   9.7500   \n",
       "523  1.9628    0.353929    37.5048  0.354617  0.365852   1.031683 -51.1783   \n",
       "820  1.1313   -0.522339    75.1412  0.954500  0.074219   0.077757 -71.4859   \n",
       "520  0.7594   -0.056568    53.7302  0.876651  0.068100   0.077682 -25.4666   \n",
       "509  0.0484   -0.197592  1049.5294  0.937625  0.020107   0.021445   9.9677   \n",
       "391  0.6550  -21.141796    80.0015  0.920276  0.045506   0.049448 -66.4338   \n",
       "308  0.2377   -2.066554   229.0134  0.565974  0.028755   0.050807  -0.2267   \n",
       "254  0.1312   -0.051073    90.7456  0.668612  0.014885   0.022263 -84.6975   \n",
       "688  0.2756    0.232761    71.0742  0.602457  0.061970   0.102863  30.0184   \n",
       "877  2.1641  -22.744586    51.4551  0.725014  0.068666   0.094710 -83.4405   \n",
       "353  1.0930   -0.413571    70.9302  0.745084  0.224745   0.301637 -73.2490   \n",
       "418  0.9081   -1.431871    77.2268  0.940014  0.002383   0.002535 -98.1757   \n",
       "775  0.3080   -0.582608   214.6261  0.729151  0.128836   0.176693 -92.9092   \n",
       "268  0.6739   -0.410775    99.4873  0.803996  0.026726   0.033242 -59.5984   \n",
       "376  0.2323   -0.454236    91.1772  0.999974  0.004180   0.004180 -43.7513   \n",
       "587  0.1215   -0.569605   112.0172  0.995145  0.005245   0.005271 -69.5872   \n",
       "84   0.5609   -0.090139    68.0257  0.633275  0.011408   0.018014 -32.9300   \n",
       "529  0.8953    0.184931    93.5552  0.945810  0.000845   0.000893 -91.0732   \n",
       "135  0.5636   -2.003570   119.4935  0.527408  0.012764   0.024202 -52.7152   \n",
       "\n",
       "     真实违约  中债下降  模型预测  \n",
       "611   1.0   1.0     1  \n",
       "3     1.0   1.0     0  \n",
       "523   1.0   1.0     0  \n",
       "820   1.0   1.0     1  \n",
       "520   1.0   1.0     1  \n",
       "509   1.0   1.0     1  \n",
       "391   1.0   1.0     1  \n",
       "308   1.0   1.0     1  \n",
       "254   1.0   1.0     1  \n",
       "688   1.0   0.0     0  \n",
       "877   1.0   1.0     1  \n",
       "353   1.0   1.0     1  \n",
       "418   1.0   1.0     1  \n",
       "775   1.0   1.0     1  \n",
       "268   1.0   1.0     1  \n",
       "376   1.0   1.0     1  \n",
       "587   1.0   1.0     1  \n",
       "84    1.0   1.0     1  \n",
       "529   1.0   1.0     1  \n",
       "135   1.0   1.0     1  "
      ]
     },
     "execution_count": 69,
     "metadata": {},
     "output_type": "execute_result"
    }
   ],
   "source": [
    "result  = X_test\n",
    "result[\"真实违约\"] = true_test\n",
    "result[\"中债下降\"] = y_test\n",
    "result[\"模型预测\"] = y_test_pred\n",
    "result.loc[result[\"真实违约\"]==1]"
   ]
  },
  {
   "cell_type": "markdown",
   "id": "8c845995",
   "metadata": {},
   "source": [
    "#  f1 计算"
   ]
  },
  {
   "cell_type": "code",
   "execution_count": 123,
   "id": "90e50889",
   "metadata": {},
   "outputs": [
    {
     "data": {
      "text/plain": [
       "0.45"
      ]
     },
     "execution_count": 123,
     "metadata": {},
     "output_type": "execute_result"
    }
   ],
   "source": [
    "def f1(pre,re):\n",
    "    return 2*(re*pre)/(re+pre)\n",
    "f1(0.45, 0.45)"
   ]
  },
  {
   "cell_type": "markdown",
   "id": "7a0733b2",
   "metadata": {},
   "source": [
    "# 对Xgbod进行调参"
   ]
  },
  {
   "cell_type": "code",
   "execution_count": 47,
   "id": "014fa527",
   "metadata": {},
   "outputs": [
    {
     "name": "stdout",
     "output_type": "stream",
     "text": [
      "[13:35:00] WARNING: C:/Users/Administrator/workspace/xgboost-win64_release_1.6.0/src/learner.cc:627: \n",
      "Parameters: { \"silent\" } might not be used.\n",
      "\n",
      "  This could be a false alarm, with some parameters getting used by language bindings but\n",
      "  then being mistakenly passed down to XGBoost core, or some parameter actually being used\n",
      "  but getting flagged wrongly here. Please open an issue if you find any such cases.\n",
      "\n",
      "\n",
      "0.460146  with:   {'learning_rate': 1e-05, 'subsample': 0.5}\n",
      "0.457583  with:   {'learning_rate': 1e-05, 'subsample': 0.6}\n",
      "0.461562  with:   {'learning_rate': 1e-05, 'subsample': 0.7}\n",
      "0.464081  with:   {'learning_rate': 1e-05, 'subsample': 0.8}\n",
      "0.458015  with:   {'learning_rate': 1e-05, 'subsample': 0.9}\n",
      "0.460146  with:   {'learning_rate': 0.0001, 'subsample': 0.5}\n",
      "0.457583  with:   {'learning_rate': 0.0001, 'subsample': 0.6}\n",
      "0.459000  with:   {'learning_rate': 0.0001, 'subsample': 0.7}\n",
      "0.460164  with:   {'learning_rate': 0.0001, 'subsample': 0.8}\n",
      "0.458015  with:   {'learning_rate': 0.0001, 'subsample': 0.9}\n",
      "0.464276  with:   {'learning_rate': 0.001, 'subsample': 0.5}\n",
      "0.463814  with:   {'learning_rate': 0.001, 'subsample': 0.6}\n",
      "0.460600  with:   {'learning_rate': 0.001, 'subsample': 0.7}\n",
      "0.459465  with:   {'learning_rate': 0.001, 'subsample': 0.8}\n",
      "0.461987  with:   {'learning_rate': 0.001, 'subsample': 0.9}\n",
      "0.463348  with:   {'learning_rate': 0.01, 'subsample': 0.5}\n",
      "0.462574  with:   {'learning_rate': 0.01, 'subsample': 0.6}\n",
      "0.470691  with:   {'learning_rate': 0.01, 'subsample': 0.7}\n",
      "0.479586  with:   {'learning_rate': 0.01, 'subsample': 0.8}\n",
      "0.482491  with:   {'learning_rate': 0.01, 'subsample': 0.9}\n",
      "0.452900  with:   {'learning_rate': 0.1, 'subsample': 0.5}\n",
      "0.451966  with:   {'learning_rate': 0.1, 'subsample': 0.6}\n",
      "0.458264  with:   {'learning_rate': 0.1, 'subsample': 0.7}\n",
      "0.457264  with:   {'learning_rate': 0.1, 'subsample': 0.8}\n",
      "0.450328  with:   {'learning_rate': 0.1, 'subsample': 0.9}\n"
     ]
    }
   ],
   "source": [
    "from sklearn.model_selection import GridSearchCV\n",
    "other_params = {'max_depth': 1, 'n_estimators': 500, 'scale_pos_weight': 4,'colsample_bytree': 0.4, 'gamma': 0.0001, 'min_child_weight': 2,'learning_rate': 0.01, 'subsample': 0.9}\n",
    "model = XGBOD(**other_params)\n",
    "\n",
    "param_grid = {  'subsample': [0.5,0.6,0.7,0.8,0.9],\n",
    "              'learning_rate' : [1e-5,1e-4,1e-3,1e-2,1e-1]}\n",
    "grid_search = GridSearchCV(model,param_grid,n_jobs = -1,cv = 3,scoring = \"f1\")\n",
    "grid_result = grid_search.fit(X_train, y_train)\n",
    "\n",
    "means = grid_result.cv_results_['mean_test_score']\n",
    "params = grid_result.cv_results_['params']\n",
    "for mean,param in zip(means,params):\n",
    "    print(\"%f  with:   %r\" % (mean,param))"
   ]
  },
  {
   "cell_type": "code",
   "execution_count": 49,
   "id": "fa1e2c67",
   "metadata": {},
   "outputs": [
    {
     "name": "stdout",
     "output_type": "stream",
     "text": [
      "最优参数组合: {'learning_rate': 0.01, 'subsample': 0.9} 最好得分: 0.4824912426015082\n"
     ]
    }
   ],
   "source": [
    "print('最优参数组合:', grid_result.best_params_, '最好得分:', grid_result.best_score_)\n"
   ]
  },
  {
   "cell_type": "markdown",
   "id": "93e688b0",
   "metadata": {},
   "source": [
    "# 绘制并比较预测结果"
   ]
  },
  {
   "cell_type": "code",
   "execution_count": 6,
   "id": "54c6023c",
   "metadata": {},
   "outputs": [
    {
     "data": {
      "image/png": "[encoded data removed]",
      "text/plain": [
       "<Figure size 432x288 with 1 Axes>"
      ]
     },
     "metadata": {
      "needs_background": "light"
     },
     "output_type": "display_data"
    }
   ],
   "source": [
    "\n",
    "import matplotlib.pyplot as plt\n",
    "size = 4\n",
    "x = np.arange(size)\n",
    "acc = [lr_train,lr_test,xgb_train,xgb_test]\n",
    "precision = [lr_train_pre,lr_test_pre,xgb_train_pre,xgb_test_pre]\n",
    "recall = [lr_train_recall,lr_test_recall,xgb_train_recall,xgb_test_recall]\n",
    "\n",
    "\n",
    "\n",
    "total_width, n = 0.8, 3\n",
    "width = total_width / n\n",
    "x = x - (total_width - width) / 2\n",
    "\n",
    "plt.bar(x, acc,  width=width, label='acc')\n",
    "plt.bar(x + width, precision, width=width, label='precision')\n",
    "plt.bar(x + 2 * width, recall, width=width, label='recall')\n",
    "plt.legend()\n",
    "plt.show()"
   ]
  },
  {
   "cell_type": "code",
   "execution_count": 7,
   "id": "569d86dc",
   "metadata": {},
   "outputs": [
    {
     "data": {
      "text/plain": [
       "[0.08441558441558442, 0.03389830508474576, 1.0, 0.2033898305084746]"
      ]
     },
     "execution_count": 7,
     "metadata": {},
     "output_type": "execute_result"
    }
   ],
   "source": [
    "recall"
   ]
  },
  {
   "cell_type": "code",
   "execution_count": 48,
   "id": "d55605d3",
   "metadata": {},
   "outputs": [
    {
     "name": "stdout",
     "output_type": "stream",
     "text": [
      "最优参数组合: {'learning_rate': 0.1} 最好得分: 0.5867356491746736\n"
     ]
    }
   ],
   "source": [
    "print('最优参数组合:', grid_result.best_params_, '最好得分:', grid_result.best_score_)"
   ]
  },
  {
   "cell_type": "markdown",
   "id": "5f6c62a8",
   "metadata": {},
   "source": [
    "# 违约距离计算（暂时没用上）"
   ]
  },
  {
   "cell_type": "code",
   "execution_count": 8,
   "id": "8df4eb5e",
   "metadata": {},
   "outputs": [
    {
     "ename": "NameError",
     "evalue": "name 'leng' is not defined",
     "output_type": "error",
     "traceback": [
      "\u001b[1;31m---------------------------------------------------------------------------\u001b[0m",
      "\u001b[1;31mNameError\u001b[0m                                 Traceback (most recent call last)",
      "Input \u001b[1;32mIn [8]\u001b[0m, in \u001b[0;36m<module>\u001b[1;34m\u001b[0m\n\u001b[0;32m      1\u001b[0m \u001b[38;5;28;01mimport\u001b[39;00m \u001b[38;5;21;01makshare\u001b[39;00m \u001b[38;5;28;01mas\u001b[39;00m \u001b[38;5;21;01mak\u001b[39;00m\n\u001b[1;32m----> 2\u001b[0m \u001b[38;5;28;01mfor\u001b[39;00m i \u001b[38;5;129;01min\u001b[39;00m \u001b[38;5;28mrange\u001b[39m(\u001b[38;5;241m0\u001b[39m,\u001b[43mleng\u001b[49m):\n\u001b[0;32m      3\u001b[0m     \u001b[38;5;28;01mtry\u001b[39;00m:    \n\u001b[0;32m      4\u001b[0m         stock_zh_a_daily_qfq_df \u001b[38;5;241m=\u001b[39m ak\u001b[38;5;241m.\u001b[39mstock_zh_a_daily(symbol\u001b[38;5;241m=\u001b[39mcode[i], start_date\u001b[38;5;241m=\u001b[39m\u001b[38;5;124m\"\u001b[39m\u001b[38;5;124m20171231\u001b[39m\u001b[38;5;124m\"\u001b[39m, end_date\u001b[38;5;241m=\u001b[39m\u001b[38;5;124m\"\u001b[39m\u001b[38;5;124m20190101\u001b[39m\u001b[38;5;124m\"\u001b[39m, adjust\u001b[38;5;241m=\u001b[39m\u001b[38;5;124m\"\u001b[39m\u001b[38;5;124mqfq\u001b[39m\u001b[38;5;124m\"\u001b[39m)\n",
      "\u001b[1;31mNameError\u001b[0m: name 'leng' is not defined"
     ]
    }
   ],
   "source": [
    "import akshare as ak\n",
    "for i in range(0,leng):\n",
    "    try:    \n",
    "        stock_zh_a_daily_qfq_df = ak.stock_zh_a_daily(symbol=code[i], start_date=\"20171231\", end_date=\"20190101\", adjust=\"qfq\")\n",
    "        stock_zh_a_daily_qfq_df[\"value\"] = stock_zh_a_daily_qfq_df[\"outstanding_share\"]*stock_zh_a_daily_qfq_df[\"close\"]\n",
    "        stock_zh_a_daily_qfq_df[\"next\"] = stock_zh_a_daily_qfq_df[\"close\"].shift(1)\n",
    "        stock_zh_a_daily_qfq_df.dropna(inplace = True)\n",
    "        n = len(stock_zh_a_daily_qfq_df[\"next\"])\n",
    "        rf = 1.5\n",
    "        stock_zh_a_daily_qfq_df[\"change\"] =(stock_zh_a_daily_qfq_df[\"close\"]/stock_zh_a_daily_qfq_df[\"next\"]-1)*100\n",
    "        stock_zh_a_daily_qfq_df[\"change\"] = (stock_zh_a_daily_qfq_df[\"change\"]).apply(np.log1p) \n",
    "        std = stock_zh_a_daily_qfq_df[\"change\"].std()\n",
    "        mean = stock_zh_a_daily_qfq_df[\"close\"].mean()\n",
    "        sharp = (mean - rf)/std\n",
    "        V_equity = mean*total_shar[i]\n",
    "        default_point = (lib[i]-lt_lib[i])*1.045\n",
    "        rf_rate = 0.015\n",
    "        sigma_equity = std \n",
    "        T = 1\n",
    "        # One dimension estimation\n",
    "        def equation(x):\n",
    "            d1 = (np.log(x[0]/default_point) + (rf_rate+x[1]**2/2)*T)/(x[1] * np.sqrt(T))\n",
    "            d2 = d1 - x[1] * np.sqrt(T)\n",
    "            res1 = x[0] * norm.cdf(d1) - np.exp(-rf_rate*T) * default_point * norm.cdf(d2) - V_equity\n",
    "            res2 = x[0] * norm.cdf(d1) * x[1] - V_equity * sigma_equity\n",
    "            return(res1**2+res2**2)\n",
    "        result = minimize(equation,[V_equity,sigma_equity])\n",
    "        V_asset = list(result[\"x\"])[0]\n",
    "        sigma_asset = list(result[\"x\"])[1]\n",
    "        DD = (V_asset-default_point)/(sigma_asset*V_asset)\n",
    "        list_D.append(DD)\n",
    "        sharp_list.append(sharp)\n",
    "        record_code.append(code[i])\n",
    "    except Exception as e:\n",
    "        pass\n",
    "    continue\n",
    "DD"
   ]
  }
 ],
 "metadata": {
  "kernelspec": {
   "display_name": "Python 3 (ipykernel)",
   "language": "python",
   "name": "python3"
  },
  "language_info": {
   "codemirror_mode": {
    "name": "ipython",
    "version": 3
   },
   "file_extension": ".py",
   "mimetype": "text/x-python",
   "name": "python",
   "nbconvert_exporter": "python",
   "pygments_lexer": "ipython3",
   "version": "3.8.10"
  }
 },
 "nbformat": 4,
 "nbformat_minor": 5
}
